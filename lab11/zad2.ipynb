{
 "cells": [
  {
   "cell_type": "code",
   "execution_count": 111,
   "metadata": {},
   "outputs": [],
   "source": [
    "#importy\n",
    "import numpy as np"
   ]
  },
  {
   "cell_type": "code",
   "execution_count": 112,
   "metadata": {},
   "outputs": [],
   "source": [
    "#funkcja Rosenbrocka\n",
    "f = lambda x: 100 * (x[1] - x[0]**2)**2 + (1 - x[0])**2\n",
    "\n",
    "#gradient i hessian\n",
    "gradient = lambda x: np.array([-400*x[0]*x[1] + 400*x[0]**3 - 4 + 2*x[0], 200*x[1] - 200*x[0]**2])\n",
    "hessian = lambda x: np.array([[-400*x[1] + 1200*x[0]**2, -400*x[0]], [-400*x[0], 200]])\n",
    "\n",
    "#funkcja testowa\n",
    "f = lambda x: x[0]**2 + x[1]**2 + 5*x[0]    #minimum -> (-2.5, 0)\n",
    "gradient = lambda x: np.array([2*x[0]+5, 2*x[1]])\n",
    "hessian = lambda x: np.array([[2, 0], [0, 2]])"
   ]
  },
  {
   "cell_type": "code",
   "execution_count": 113,
   "metadata": {},
   "outputs": [],
   "source": [
    "#metoda Newtona\n",
    "def newton(x0, N):\n",
    "  #kopia dla bezpieczenstwa\n",
    "  x = x0.copy()\n",
    "  \n",
    "  #glowna petla\n",
    "  for i in range(N):\n",
    "    #obliczam gradient i hessian\n",
    "    g = gradient(x)\n",
    "    h = hessian(x)\n",
    "\n",
    "    #wyznaczam kolejnego x\n",
    "    h_inv = np.linalg.inv(h)\n",
    "    x -= h_inv.dot(g)\n",
    "  \n",
    "  #return wyniku\n",
    "  return x"
   ]
  },
  {
   "cell_type": "code",
   "execution_count": 114,
   "metadata": {},
   "outputs": [],
   "source": [
    "#metoda najwiekszego spadku\n",
    "def steepest_descent(x0, N):\n",
    "\n",
    "  #funkcja pomocnicza minimalizujaca alphe za pomoca metody zlotego podzialu\n",
    "  def get_alpha(x, g):\n",
    "    a = 0\n",
    "    b = 1\n",
    "    phi = (np.sqrt(5) - 1) / 2\n",
    "    c = a + (b - a) * phi\n",
    "    d = b - (b - a) * phi\n",
    "    while abs(b - a) > 0.001:\n",
    "        if f(x-d*g) < f(x-c*g):\n",
    "            b = c\n",
    "        else:\n",
    "            a = d\n",
    "        c = a + (b - a) * phi\n",
    "        d = b - (b - a) * phi\n",
    "    return (a + b) / 2\n",
    "\n",
    "\n",
    "\n",
    "  #kopia dla niezmiennosci\n",
    "  x = x0.copy()\n",
    "\n",
    "  #glowna petla\n",
    "  for i in range(N):\n",
    "    #wyznaczam gradient\n",
    "    g = gradient(x)\n",
    "\n",
    "    #minimalizuje wspolczynnik alpha\n",
    "    alpha = get_alpha(x, g)\n",
    "    #wyznaczam nowego x\n",
    "    x -= alpha * g\n",
    "    \n",
    "  #return wyniku\n",
    "  return x"
   ]
  },
  {
   "cell_type": "code",
   "execution_count": 115,
   "metadata": {},
   "outputs": [
    {
     "name": "stdout",
     "output_type": "stream",
     "text": [
      "---------------------------------------------------------------\n",
      "x_0 = ( -1.0 , 1.0 )\n",
      "Metoda najwiekszego spadku: [-2.50000000e+00 -5.33598291e-17]\n",
      "Metoda Newtona: [-2.5  0. ]\n",
      "---------------------------------------------------------------\n",
      "x_0 = ( 0.0 , 1.0 )\n",
      "Metoda najwiekszego spadku: [-2.5  0. ]\n",
      "Metoda Newtona: [-2.5  0. ]\n",
      "---------------------------------------------------------------\n",
      "x_0 = ( 2.0 , 1.0 )\n",
      "Metoda najwiekszego spadku: [-2.5  0. ]\n",
      "Metoda Newtona: [-2.5  0. ]\n",
      "---------------------------------------------------------------\n",
      "x_0 = ( 2.0 , 2.0 )\n",
      "Metoda najwiekszego spadku: [-2.5  0. ]\n",
      "Metoda Newtona: [-2.5  0. ]\n"
     ]
    }
   ],
   "source": [
    "#wywolania\n",
    "X = [\n",
    "        np.array([-1., 1.]),\n",
    "        np.array([0., 1.]),\n",
    "        np.array([2., 1.]),\n",
    "        np.array([2., 2.])\n",
    "    ]\n",
    "\n",
    "for x in X:\n",
    "    print(\"---------------------------------------------------------------\")\n",
    "    print(\"x_0 = (\", x[0], \",\", x[1], \")\")\n",
    "    print(\"Metoda najwiekszego spadku:\", steepest_descent(x, 1000))\n",
    "    print(\"Metoda Newtona:\", newton(x, 1000))"
   ]
  }
 ],
 "metadata": {
  "kernelspec": {
   "display_name": "Python 3.11.3 64-bit",
   "language": "python",
   "name": "python3"
  },
  "language_info": {
   "codemirror_mode": {
    "name": "ipython",
    "version": 3
   },
   "file_extension": ".py",
   "mimetype": "text/x-python",
   "name": "python",
   "nbconvert_exporter": "python",
   "pygments_lexer": "ipython3",
   "version": "3.11.3"
  },
  "orig_nbformat": 4,
  "vscode": {
   "interpreter": {
    "hash": "e7370f93d1d0cde622a1f8e1c04877d8463912d04d973331ad4851f04de6915a"
   }
  }
 },
 "nbformat": 4,
 "nbformat_minor": 2
}
