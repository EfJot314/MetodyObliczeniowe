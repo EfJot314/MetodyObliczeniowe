{
 "cells": [
  {
   "cell_type": "code",
   "execution_count": 392,
   "metadata": {},
   "outputs": [],
   "source": [
    "#importy\n",
    "import numpy as np"
   ]
  },
  {
   "cell_type": "code",
   "execution_count": 393,
   "metadata": {},
   "outputs": [],
   "source": [
    "#funkcja Rosenbrocka\n",
    "f = lambda x: 100 * (x[1] - x[0]**2)**2 + (1 - x[0])**2\n",
    "\n",
    "#gradient i hessian\n",
    "gradient = lambda x: np.array([-400*x[0]*x[1] + 400*x[0]**3 - 4 + 2*x[0], 200*x[1] - 200*x[0]**2])\n",
    "hessian = lambda x: np.array([[-400*x[1] + 1200*x[0]**2, -400*x[0]], [-400*x[0], 200]])"
   ]
  },
  {
   "cell_type": "code",
   "execution_count": 394,
   "metadata": {},
   "outputs": [],
   "source": [
    "#metoda Newtona\n",
    "def newton(x0, N):\n",
    "  x = x0\n",
    "  for i in range(N):\n",
    "    g = gradient(x)\n",
    "    h = hessian(x)\n",
    "    x = x - np.linalg.solve(h, g)\n",
    "    \n",
    "  return x"
   ]
  },
  {
   "cell_type": "code",
   "execution_count": 395,
   "metadata": {},
   "outputs": [],
   "source": [
    "#metoda najwiekszego spadku\n",
    "def steepest_descent(x0, N):\n",
    "  #kopia dla niezmiennosci\n",
    "  x = x0.copy()\n",
    "\n",
    "  #glowna petla\n",
    "  for i in range(N):\n",
    "    #wyznaczam gradient\n",
    "    g = gradient(x)\n",
    "\n",
    "    #minimalizuje wspolczynnik alpha\n",
    "    alpha = 1\n",
    "    while f(x - alpha * g) - f(x) > 0.01:\n",
    "      alpha = alpha / 2\n",
    "    #wyznaczam nowego x\n",
    "    x -= alpha * g\n",
    "    \n",
    "  #return wyniku\n",
    "  return x"
   ]
  },
  {
   "cell_type": "code",
   "execution_count": 396,
   "metadata": {},
   "outputs": [
    {
     "name": "stdout",
     "output_type": "stream",
     "text": [
      "---------------------------------------------------------------\n",
      "x_0 = ( -1.0 , 1.0 )\n",
      "Metoda najwiekszego spadku: [1.37648567 1.90235485]\n",
      "---------------------------------------------------------------\n",
      "x_0 = ( 0.0 , 1.0 )\n",
      "Metoda najwiekszego spadku: [1.39206041 1.93012354]\n",
      "---------------------------------------------------------------\n",
      "x_0 = ( 2.0 , 1.0 )\n",
      "Metoda najwiekszego spadku: [1.41401723 1.99112594]\n",
      "---------------------------------------------------------------\n",
      "x_0 = ( 2.0 , 2.0 )\n",
      "Metoda najwiekszego spadku: [1.68936025 2.85163455]\n"
     ]
    }
   ],
   "source": [
    "#wywolania\n",
    "X = [\n",
    "        np.array([-1., 1.]),\n",
    "        np.array([0., 1.]),\n",
    "        np.array([2., 1.]),\n",
    "        np.array([2., 2.])\n",
    "    ]\n",
    "\n",
    "for x in X:\n",
    "    print(\"---------------------------------------------------------------\")\n",
    "    print(\"x_0 = (\", x[0], \",\", x[1], \")\")\n",
    "    print(\"Metoda najwiekszego spadku:\", steepest_descent(x, 1000))\n",
    "    # print(\"Metoda Newtona:\", newton(x, 1000))"
   ]
  }
 ],
 "metadata": {
  "kernelspec": {
   "display_name": "Python 3.11.3 64-bit",
   "language": "python",
   "name": "python3"
  },
  "language_info": {
   "codemirror_mode": {
    "name": "ipython",
    "version": 3
   },
   "file_extension": ".py",
   "mimetype": "text/x-python",
   "name": "python",
   "nbconvert_exporter": "python",
   "pygments_lexer": "ipython3",
   "version": "3.11.3"
  },
  "orig_nbformat": 4,
  "vscode": {
   "interpreter": {
    "hash": "e7370f93d1d0cde622a1f8e1c04877d8463912d04d973331ad4851f04de6915a"
   }
  }
 },
 "nbformat": 4,
 "nbformat_minor": 2
}
