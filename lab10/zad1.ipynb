{
 "cells": [
  {
   "cell_type": "code",
   "execution_count": 10,
   "metadata": {},
   "outputs": [],
   "source": [
    "#importy\n",
    "import numpy as np\n",
    "import deepxde as dde\n"
   ]
  },
  {
   "cell_type": "code",
   "execution_count": 11,
   "metadata": {},
   "outputs": [],
   "source": [
    "#stale\n",
    "L = 2"
   ]
  },
  {
   "cell_type": "code",
   "execution_count": 12,
   "metadata": {},
   "outputs": [
    {
     "name": "stdout",
     "output_type": "stream",
     "text": [
      "[[-0.25768653 -0.6313861   1.9981074   1.9915226 ]\n",
      " [ 0.05297974  0.18608065  1.9903694   1.9913912 ]\n",
      " [ 0.81975126 -0.37570325  1.9909556   1.9908108 ]\n",
      " [ 0.56753445  0.14737682  1.9970841   1.9951679 ]\n",
      " [-0.28864774 -0.7577283   1.9939516   1.9976153 ]\n",
      " [ 0.11636163 -0.435433    1.0012335   1.0002722 ]\n",
      " [-0.35065842  0.60236555  1.9928739   1.9905862 ]\n",
      " [-0.33972523 -0.20446621  1.0072254   1.0058284 ]\n",
      " [-0.57374066 -0.76799184  1.9947776   1.9965396 ]\n",
      " [-0.08874463 -0.5267332   1.0000403   1.0012184 ]]\n"
     ]
    }
   ],
   "source": [
    "#dziedzina\n",
    "# geometry = dde.geometry.Hypercube(xmin=[-L/2, -L/2, 1, 1], xmax=[L/2, L/2, 2, 2])\n",
    "g1 = dde.geometry.Hypercube(xmin=[-L/2, -L/2, 1, 1], xmax=[L/2, L/2, 2, 2])\n",
    "g2 = dde.geometry.Hypercube(xmin=[-L/2, -L/2, 1, 1], xmax=[L/2, L/2, 1.01, 1.01])\n",
    "geometry1 = dde.geometry.CSGIntersection(g1, g2)\n",
    "\n",
    "g2 = dde.geometry.Hypercube(xmin=[-L/2, -L/2, 1.99, 1.99], xmax=[L/2, L/2, 2, 2])\n",
    "geometry2 = dde.geometry.CSGIntersection(g1, g2)\n",
    "\n",
    "geometry = dde.geometry.CSGUnion(geometry1, geometry2)\n",
    "\n",
    "print(geometry.random_points(10))\n",
    "\n"
   ]
  },
  {
   "cell_type": "code",
   "execution_count": 13,
   "metadata": {},
   "outputs": [],
   "source": [
    "#funkcja\n",
    "def pde(x, y):\n",
    "    du_xx = dde.grad.hessian(y, x, i=0, j=0)\n",
    "    du_yy = dde.grad.hessian(y, x, i=1, j=1)\n",
    "    n1 = x[:, 2:3]\n",
    "    n2 = x[:, 3:4]\n",
    "    return 0.5 * (du_xx + du_yy) + (n1*n1 + n2*n2) * np.pi * y / (2 * L * L)\n",
    "\n"
   ]
  },
  {
   "cell_type": "code",
   "execution_count": 14,
   "metadata": {},
   "outputs": [],
   "source": [
    "#warunki brzegowe\n",
    "def boundaryFunction(x, on_boundary):\n",
    "    if not on_boundary:\n",
    "        return False\n",
    "    if dde.utils.isclose(x[0], -L/2) or dde.utils.isclose(x[0], L/2):\n",
    "        return True\n",
    "    if dde.utils.isclose(x[1], -L/2) or dde.utils.isclose(x[1], L/2):\n",
    "        return True\n",
    "    return False\n",
    "\n",
    "\n",
    "boundary_conditions = dde.icbc.DirichletBC(geometry, \n",
    "                                            lambda x: 0, \n",
    "                                            lambda x, on_boundary: boundaryFunction(x, on_boundary))\n"
   ]
  },
  {
   "cell_type": "code",
   "execution_count": 15,
   "metadata": {},
   "outputs": [
    {
     "name": "stdout",
     "output_type": "stream",
     "text": [
      "Warning: CSGUnion.uniform_points not implemented. Use random_points instead.\n"
     ]
    }
   ],
   "source": [
    "#dane\n",
    "data = dde.data.PDE(geometry, \n",
    "                    pde, \n",
    "                    boundary_conditions, \n",
    "                    num_domain=4000,\n",
    "                    num_boundary=2000,\n",
    "                    num_test=1000\n",
    "                    )"
   ]
  },
  {
   "cell_type": "code",
   "execution_count": 16,
   "metadata": {},
   "outputs": [],
   "source": [
    "#siec\n",
    "net = dde.nn.FNN([4]+[30]*3+[1],\n",
    "                \"tanh\",\n",
    "                \"Glorot normal\"\n",
    "                )"
   ]
  },
  {
   "cell_type": "code",
   "execution_count": 17,
   "metadata": {},
   "outputs": [
    {
     "name": "stdout",
     "output_type": "stream",
     "text": [
      "Compiling model...\n",
      "Building feed-forward neural network...\n",
      "'build' took 0.088545 s\n",
      "\n",
      "'compile' took 0.677119 s\n",
      "\n"
     ]
    }
   ],
   "source": [
    "#model\n",
    "model = dde.Model(data, net)\n",
    "\n",
    "model.compile(\"adam\", lr=0.001)"
   ]
  },
  {
   "cell_type": "code",
   "execution_count": 18,
   "metadata": {},
   "outputs": [
    {
     "name": "stdout",
     "output_type": "stream",
     "text": [
      "Training model...\n",
      "\n",
      "Step      Train loss              Test loss               Test metric\n",
      "0         [1.08e+00, 1.90e-01]    [1.04e+00, 1.90e-01]    []  \n",
      "1000      [2.93e-05, 1.16e-05]    [2.35e-05, 1.16e-05]    []  \n",
      "2000      [6.24e-06, 2.07e-06]    [5.12e-06, 2.07e-06]    []  \n",
      "3000      [4.23e-06, 1.18e-06]    [3.48e-06, 1.18e-06]    []  \n",
      "4000      [2.86e-06, 7.42e-07]    [2.37e-06, 7.42e-07]    []  \n",
      "5000      [2.13e-06, 4.99e-07]    [1.81e-06, 4.99e-07]    []  \n",
      "6000      [1.06e-06, 2.65e-07]    [8.69e-07, 2.65e-07]    []  \n",
      "7000      [1.52e-03, 2.29e-04]    [1.50e-03, 2.29e-04]    []  \n",
      "8000      [3.69e-07, 9.59e-08]    [2.91e-07, 9.59e-08]    []  \n",
      "9000      [3.88e-07, 1.65e-07]    [3.45e-07, 1.65e-07]    []  \n",
      "10000     [1.14e-07, 4.43e-08]    [8.83e-08, 4.43e-08]    []  \n",
      "\n",
      "Best model at step 10000:\n",
      "  train loss: 1.59e-07\n",
      "  test loss: 1.33e-07\n",
      "  test metric: []\n",
      "\n",
      "'train' took 492.039620 s\n",
      "\n"
     ]
    }
   ],
   "source": [
    "#trenowanie\n",
    "loss_history, train_state = model.train(iterations = 10000)"
   ]
  }
 ],
 "metadata": {
  "kernelspec": {
   "display_name": "Python 3.11.3 64-bit",
   "language": "python",
   "name": "python3"
  },
  "language_info": {
   "codemirror_mode": {
    "name": "ipython",
    "version": 3
   },
   "file_extension": ".py",
   "mimetype": "text/x-python",
   "name": "python",
   "nbconvert_exporter": "python",
   "pygments_lexer": "ipython3",
   "version": "3.11.3"
  },
  "orig_nbformat": 4,
  "vscode": {
   "interpreter": {
    "hash": "e7370f93d1d0cde622a1f8e1c04877d8463912d04d973331ad4851f04de6915a"
   }
  }
 },
 "nbformat": 4,
 "nbformat_minor": 2
}
